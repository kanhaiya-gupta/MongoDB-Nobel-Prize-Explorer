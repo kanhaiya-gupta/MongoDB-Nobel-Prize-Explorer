{
 "cells": [
  {
   "cell_type": "markdown",
   "id": "c8c5e169-e168-4999-8885-8eb0cad67c54",
   "metadata": {},
   "source": [
    "## The Nobel Prize API data(base)"
   ]
  },
  {
   "cell_type": "markdown",
   "id": "eb56d2da-6675-4c60-916b-20800554fcfe",
   "metadata": {},
   "source": [
    "You will be working with the Nobel laureates database which we have retrieved as nobel. The database has two collections, prizes and laureates. In the prizes collection, every document correspond to a single Nobel prize, and in the laureates collection - to a single Nobel laureate.\n",
    "\n",
    "Recall that you can access databases by name as attributes of the client, like client.my_database (a connected client is already provided to you as client). Similarly, collections can be accessed by name as attributes of databases (my_database.my_collection).\n",
    "\n",
    "Use the console on the right to compare the number of laureates and prizes using the .count_documents() method on a collection (don't forget to specify an empty filter document as the argument!), and pick a statement that is TRUE."
   ]
  },
  {
   "cell_type": "code",
   "execution_count": 2,
   "id": "5e089f5d-e8ef-40e9-803f-79d272e5ea47",
   "metadata": {},
   "outputs": [],
   "source": [
    "import requests\n",
    "from pymongo import MongoClient\n",
    "# Client connects to \"localhost\" by default\n",
    "client = MongoClient()\n",
    "# Create local \"nobel\" database on the fly\n",
    "db = client[\"nobel\"]\n",
    "for collection_name in [\"prizes\", \"laureates\"]:\n",
    "    # collect the data from the API\n",
    "    response = requests.get(\n",
    "        \"http://api.nobelprize.org/v1/{}.json\".\\\n",
    "        format(collection_name[:-1] ))\n",
    "    # convert the data to json\n",
    "    documents = response.json()[collection_name]\n",
    "    # Create collections on the fly\n",
    "    db[collection_name].insert_many(documents)"
   ]
  },
  {
   "cell_type": "markdown",
   "id": "229f4540-dc8c-409e-8a95-a1d0c1659cc5",
   "metadata": {},
   "source": [
    "## Listing databases and collections\n",
    "Our MongoClient object is not actually a dictionary, so we can't call keys() to list the names of accessible databases. The same is true for listing collections of a database. Instead, we can list database names by calling .list_database_names() on a client instance, and we can list collection names by calling .list_collection_names() on a database instance."
   ]
  },
  {
   "cell_type": "code",
   "execution_count": 58,
   "id": "ad898205-75bf-4a97-9683-2dd711506b61",
   "metadata": {},
   "outputs": [
    {
     "name": "stdout",
     "output_type": "stream",
     "text": [
      "['admin', 'config', 'local', 'nobel', 'nobel_prize_db']\n",
      "['laureates', 'prizes']\n"
     ]
    }
   ],
   "source": [
    "# Save a list of names of the databases managed by client\n",
    "db_names = client.list_database_names()\n",
    "print(db_names)\n",
    "\n",
    "# Save a list of names of the collections managed by the \"nobel\" database\n",
    "nobel_coll_names = client.nobel.list_collection_names()\n",
    "print(nobel_coll_names)"
   ]
  },
  {
   "cell_type": "markdown",
   "id": "2e54d2f4-5c63-431a-b94a-9373807d2793",
   "metadata": {},
   "source": [
    "## Accessing databases and collections"
   ]
  },
  {
   "cell_type": "code",
   "execution_count": 4,
   "id": "d423796f-871e-4783-9c83-c915059f945d",
   "metadata": {},
   "outputs": [],
   "source": [
    "# client is a dictionary of databases\n",
    "db = client[\"nobel\"]\n",
    "# database is a dictionary of collections\n",
    "prizes_collection = db[\"prizes\"]\n",
    "\n",
    "#### \n",
    "# databases are attributes of a client\n",
    "#db = client.nobel\n",
    "# collections are attributes of databases\n",
    "#prizes_collection = db.prizes"
   ]
  },
  {
   "cell_type": "markdown",
   "id": "99e7370c-a3f6-4a6c-8810-7c268ac02dd0",
   "metadata": {},
   "source": [
    "## Count documents in a collection"
   ]
  },
  {
   "cell_type": "code",
   "execution_count": 6,
   "id": "d49f5e43-102d-4d33-b1b2-65480ce65518",
   "metadata": {},
   "outputs": [
    {
     "data": {
      "text/plain": [
       "{'_id': ObjectId('67f81e84e3b001d8eab41e0f'),\n",
       " 'year': '2024',\n",
       " 'category': 'chemistry',\n",
       " 'laureates': [{'id': '1039',\n",
       "   'firstname': 'David',\n",
       "   'surname': 'Baker',\n",
       "   'motivation': '\"for computational protein design\"',\n",
       "   'share': '2'},\n",
       "  {'id': '1040',\n",
       "   'firstname': 'Demis',\n",
       "   'surname': 'Hassabis',\n",
       "   'motivation': '\"for protein structure prediction\"',\n",
       "   'share': '4'},\n",
       "  {'id': '1041',\n",
       "   'firstname': 'John',\n",
       "   'surname': 'Jumper',\n",
       "   'motivation': '\"for protein structure prediction\"',\n",
       "   'share': '4'}]}"
      ]
     },
     "execution_count": 6,
     "metadata": {},
     "output_type": "execute_result"
    }
   ],
   "source": [
    "# Use empty document {} as a filter\n",
    "filter = {}\n",
    "# Count documents in a collection\n",
    "n_prizes = db.prizes.count_documents(filter)\n",
    "n_laureates = db.laureates.count_documents(filter)\n",
    "\n",
    "# Find one document to inspect\n",
    "doc = db.prizes.find_one(filter)\n",
    "\n",
    "doc"
   ]
  },
  {
   "cell_type": "markdown",
   "id": "be184cfe-f89e-4549-986c-b095308a1485",
   "metadata": {},
   "source": [
    "## Filters as (sub)documents\n",
    "Count documents by providing a filter document to match."
   ]
  },
  {
   "cell_type": "code",
   "execution_count": 8,
   "id": "aff70954-5816-4120-adbe-2d57d0476e08",
   "metadata": {},
   "outputs": [
    {
     "data": {
      "text/plain": [
       "4"
      ]
     },
     "execution_count": 8,
     "metadata": {},
     "output_type": "execute_result"
    }
   ],
   "source": [
    "filter_doc = {\n",
    "'born': '1845-03-27',\n",
    "'diedCountry': 'Germany',\n",
    "'gender': 'male',\n",
    "'surname': 'Röntgen'\n",
    "}\n",
    "db.laureates.count_documents(filter_doc)"
   ]
  },
  {
   "cell_type": "markdown",
   "id": "5df82a68-08df-4d27-9ac7-57ce936d237d",
   "metadata": {},
   "source": [
    "## Simple filters"
   ]
  },
  {
   "cell_type": "code",
   "execution_count": 18,
   "id": "eb582bc9-52ed-48e4-8afb-c0b1493336ac",
   "metadata": {},
   "outputs": [
    {
     "data": {
      "text/plain": [
       "260"
      ]
     },
     "execution_count": 18,
     "metadata": {},
     "output_type": "execute_result"
    }
   ],
   "source": [
    "db.laureates.count_documents({'gender': 'female'})"
   ]
  },
  {
   "cell_type": "code",
   "execution_count": 20,
   "id": "c832f391-23c8-4227-b018-c78f68d7d925",
   "metadata": {},
   "outputs": [
    {
     "data": {
      "text/plain": [
       "208"
      ]
     },
     "execution_count": 20,
     "metadata": {},
     "output_type": "execute_result"
    }
   ],
   "source": [
    "db.laureates.count_documents({'diedCountry': 'France'})"
   ]
  },
  {
   "cell_type": "code",
   "execution_count": 22,
   "id": "48438fc0-3e1d-4626-9de7-0f40cc120867",
   "metadata": {},
   "outputs": [
    {
     "data": {
      "text/plain": [
       "8"
      ]
     },
     "execution_count": 22,
     "metadata": {},
     "output_type": "execute_result"
    }
   ],
   "source": [
    "db.laureates.count_documents({'bornCity': 'Warsaw'})"
   ]
  },
  {
   "cell_type": "markdown",
   "id": "5bcfd6ca-9771-4117-8bba-ecf1571d183e",
   "metadata": {},
   "source": [
    "## Composing filters"
   ]
  },
  {
   "cell_type": "code",
   "execution_count": 25,
   "id": "c9541124-9bd1-4f14-af01-a9fefb4344f1",
   "metadata": {},
   "outputs": [
    {
     "data": {
      "text/plain": [
       "4"
      ]
     },
     "execution_count": 25,
     "metadata": {},
     "output_type": "execute_result"
    }
   ],
   "source": [
    "filter_doc = {'gender': 'female',\n",
    "'diedCountry': 'France',\n",
    "'bornCity': 'Warsaw'}\n",
    "\n",
    "db.laureates.count_documents(filter_doc)"
   ]
  },
  {
   "cell_type": "code",
   "execution_count": 27,
   "id": "c1510b91-77be-4e9c-8566-19dfeb32f57d",
   "metadata": {},
   "outputs": [
    {
     "data": {
      "text/plain": [
       "{'_id': ObjectId('67f81e8de3b001d8eab420b8'),\n",
       " 'id': '6',\n",
       " 'firstname': 'Marie',\n",
       " 'surname': 'Curie',\n",
       " 'born': '1867-11-07',\n",
       " 'died': '1934-07-04',\n",
       " 'bornCountry': 'Russian Empire (now Poland)',\n",
       " 'bornCountryCode': 'PL',\n",
       " 'bornCity': 'Warsaw',\n",
       " 'diedCountry': 'France',\n",
       " 'diedCountryCode': 'FR',\n",
       " 'diedCity': 'Sallanches',\n",
       " 'gender': 'female',\n",
       " 'prizes': [{'year': '1903',\n",
       "   'category': 'physics',\n",
       "   'share': '4',\n",
       "   'motivation': '\"in recognition of the extraordinary services they have rendered by their joint researches on the radiation phenomena discovered by Professor Henri Becquerel\"',\n",
       "   'affiliations': [[]]},\n",
       "  {'year': '1911',\n",
       "   'category': 'chemistry',\n",
       "   'share': '1',\n",
       "   'motivation': '\"in recognition of her services to the advancement of chemistry by the discovery of the elements radium and polonium, by the isolation of radium and the study of the nature and compounds of this remarkable element\"',\n",
       "   'affiliations': [{'name': 'Sorbonne University',\n",
       "     'city': 'Paris',\n",
       "     'country': 'France'}]}]}"
      ]
     },
     "execution_count": 27,
     "metadata": {},
     "output_type": "execute_result"
    }
   ],
   "source": [
    "db.laureates.find_one(filter_doc)"
   ]
  },
  {
   "cell_type": "markdown",
   "id": "4852cca5-23c8-4a8b-a6bb-120d0257311f",
   "metadata": {},
   "source": [
    "## Query operators"
   ]
  },
  {
   "cell_type": "code",
   "execution_count": 30,
   "id": "0703bef4-1d04-46df-b4de-e8957859e220",
   "metadata": {},
   "outputs": [
    {
     "data": {
      "text/plain": [
       "1196"
      ]
     },
     "execution_count": 30,
     "metadata": {},
     "output_type": "execute_result"
    }
   ],
   "source": [
    "#Value in a range $in: <list>\n",
    "\n",
    "db.laureates.count_documents({\n",
    "'diedCountry': {\n",
    "'$in': ['France', 'USA']}})"
   ]
  },
  {
   "cell_type": "code",
   "execution_count": 32,
   "id": "072b2f4c-b31b-4071-b943-96c08a95e6d6",
   "metadata": {},
   "outputs": [
    {
     "data": {
      "text/plain": [
       "3808"
      ]
     },
     "execution_count": 32,
     "metadata": {},
     "output_type": "execute_result"
    }
   ],
   "source": [
    "#Not equal $ne : <value>\n",
    "\n",
    "db.laureates.count_documents({\n",
    "'diedCountry': {\n",
    "'$ne': 'France'}})"
   ]
  },
  {
   "cell_type": "code",
   "execution_count": 34,
   "id": "34dbeeb9-6c6e-4b0d-b28a-28863d3b0d05",
   "metadata": {},
   "outputs": [
    {
     "data": {
      "text/plain": [
       "2084"
      ]
     },
     "execution_count": 34,
     "metadata": {},
     "output_type": "execute_result"
    }
   ],
   "source": [
    "#Comparison:\n",
    "#> : $gt , ≥ : $gte\n",
    "#< : $lt , ≤ : $lte\n",
    "\n",
    "db.laureates.count_documents({\n",
    "'diedCountry': {\n",
    "'$gt': 'Belgium',\n",
    "'$lte': 'USA'}})"
   ]
  },
  {
   "cell_type": "markdown",
   "id": "96feb68e-f7e9-4471-a858-3e97f3af5754",
   "metadata": {},
   "source": [
    "## A functional density"
   ]
  },
  {
   "cell_type": "code",
   "execution_count": 37,
   "id": "0fc1a011-c180-417f-b727-2d07cd4abbe0",
   "metadata": {},
   "outputs": [
    {
     "data": {
      "text/plain": [
       "{'_id': ObjectId('67f81e8de3b001d8eab421cf'),\n",
       " 'id': '290',\n",
       " 'firstname': 'Walter',\n",
       " 'surname': 'Kohn',\n",
       " 'born': '1923-03-09',\n",
       " 'died': '2016-04-19',\n",
       " 'bornCountry': 'Austria',\n",
       " 'bornCountryCode': 'AT',\n",
       " 'bornCity': 'Vienna',\n",
       " 'diedCountry': 'USA',\n",
       " 'diedCountryCode': 'US',\n",
       " 'diedCity': 'Santa Barbara, CA',\n",
       " 'gender': 'male',\n",
       " 'prizes': [{'year': '1998',\n",
       "   'category': 'chemistry',\n",
       "   'share': '2',\n",
       "   'motivation': '\"for his development of the density-functional theory\"',\n",
       "   'affiliations': [{'name': 'University of California',\n",
       "     'city': 'Santa Barbara, CA',\n",
       "     'country': 'USA'}]}]}"
      ]
     },
     "execution_count": 37,
     "metadata": {},
     "output_type": "execute_result"
    }
   ],
   "source": [
    "db.laureates.find_one({\n",
    "\"firstname\": \"Walter\",\n",
    "\"surname\": \"Kohn\"})"
   ]
  },
  {
   "cell_type": "code",
   "execution_count": 39,
   "id": "be1cd176-1663-456f-beea-9aa0de5eec93",
   "metadata": {},
   "outputs": [
    {
     "data": {
      "text/plain": [
       "156"
      ]
     },
     "execution_count": 39,
     "metadata": {},
     "output_type": "execute_result"
    }
   ],
   "source": [
    "db.laureates.count_documents({\n",
    "\"prizes.affiliations.name\": (\n",
    "\"University of California\")})"
   ]
  },
  {
   "cell_type": "code",
   "execution_count": 41,
   "id": "587b6af8-1c3e-4d58-ae0d-05e3810150d4",
   "metadata": {},
   "outputs": [
    {
     "data": {
      "text/plain": [
       "88"
      ]
     },
     "execution_count": 41,
     "metadata": {},
     "output_type": "execute_result"
    }
   ],
   "source": [
    "db.laureates.count_documents({\n",
    "\"prizes.affiliations.city\": (\n",
    "\"Berkeley, CA\")})"
   ]
  },
  {
   "cell_type": "markdown",
   "id": "48114244-09a0-4e6d-aac3-d0d51dba419e",
   "metadata": {},
   "source": [
    "## No Country for Naipaul"
   ]
  },
  {
   "cell_type": "code",
   "execution_count": 44,
   "id": "1b461266-9dea-41c8-9660-c6d133771556",
   "metadata": {},
   "outputs": [
    {
     "data": {
      "text/plain": [
       "{'_id': ObjectId('67f81e8de3b001d8eab42387'),\n",
       " 'id': '747',\n",
       " 'firstname': 'V. S.',\n",
       " 'surname': 'Naipaul',\n",
       " 'born': '1932-08-17',\n",
       " 'died': '2018-08-11',\n",
       " 'bornCountry': 'Trinidad and Tobago',\n",
       " 'bornCountryCode': 'TT',\n",
       " 'bornCity': 'Chaguanas',\n",
       " 'diedCountry': 'United Kingdom',\n",
       " 'diedCountryCode': 'GB',\n",
       " 'diedCity': 'London',\n",
       " 'gender': 'male',\n",
       " 'prizes': [{'year': '2001',\n",
       "   'category': 'literature',\n",
       "   'share': '1',\n",
       "   'motivation': '\"for having united perceptive narrative and incorruptible scrutiny in works that compel us to see the presence of suppressed histories\"',\n",
       "   'affiliations': [[]]}]}"
      ]
     },
     "execution_count": 44,
     "metadata": {},
     "output_type": "execute_result"
    }
   ],
   "source": [
    "db.laureates.find_one({'surname': 'Naipaul'})"
   ]
  },
  {
   "cell_type": "code",
   "execution_count": 46,
   "id": "54ae043d-9255-4ead-acd1-dbbf5fc48518",
   "metadata": {},
   "outputs": [
    {
     "data": {
      "text/plain": [
       "120"
      ]
     },
     "execution_count": 46,
     "metadata": {},
     "output_type": "execute_result"
    }
   ],
   "source": [
    "db.laureates.count_documents({\"bornCountry\": {\"$exists\": False}})"
   ]
  },
  {
   "cell_type": "markdown",
   "id": "429096f5-c9fb-4806-bcc5-241fdf143e28",
   "metadata": {},
   "source": [
    "## Multiple prizes"
   ]
  },
  {
   "cell_type": "code",
   "execution_count": 49,
   "id": "b9135d13-9394-480e-af1d-8eda70874ea7",
   "metadata": {},
   "outputs": [
    {
     "data": {
      "text/plain": [
       "4016"
      ]
     },
     "execution_count": 49,
     "metadata": {},
     "output_type": "execute_result"
    }
   ],
   "source": [
    "db.laureates.count_documents({})"
   ]
  },
  {
   "cell_type": "code",
   "execution_count": 51,
   "id": "3d7365e1-c527-4057-b8a3-1570cecd0431",
   "metadata": {},
   "outputs": [
    {
     "data": {
      "text/plain": [
       "4016"
      ]
     },
     "execution_count": 51,
     "metadata": {},
     "output_type": "execute_result"
    }
   ],
   "source": [
    "db.laureates.count_documents({\"prizes\": {\"$exists\": True}})"
   ]
  },
  {
   "cell_type": "code",
   "execution_count": 53,
   "id": "6f647b82-f869-41e9-8afd-d6f00840d9a5",
   "metadata": {},
   "outputs": [
    {
     "data": {
      "text/plain": [
       "4016"
      ]
     },
     "execution_count": 53,
     "metadata": {},
     "output_type": "execute_result"
    }
   ],
   "source": [
    "db.laureates.count_documents({\"prizes.0\": {\"$exists\": True}})"
   ]
  },
  {
   "cell_type": "code",
   "execution_count": 55,
   "id": "f6932e70-9cf8-4385-9f1c-3796ba6b6aea",
   "metadata": {},
   "outputs": [
    {
     "data": {
      "text/plain": [
       "28"
      ]
     },
     "execution_count": 55,
     "metadata": {},
     "output_type": "execute_result"
    }
   ],
   "source": [
    "db.laureates.count_documents({\"prizes.1\": {\"$exists\": True}})"
   ]
  },
  {
   "cell_type": "code",
   "execution_count": null,
   "id": "af5ea9e8-248b-427b-b96e-f4621d912608",
   "metadata": {},
   "outputs": [],
   "source": []
  }
 ],
 "metadata": {
  "kernelspec": {
   "display_name": "Python [conda env:base] *",
   "language": "python",
   "name": "conda-base-py"
  },
  "language_info": {
   "codemirror_mode": {
    "name": "ipython",
    "version": 3
   },
   "file_extension": ".py",
   "mimetype": "text/x-python",
   "name": "python",
   "nbconvert_exporter": "python",
   "pygments_lexer": "ipython3",
   "version": "3.12.3"
  }
 },
 "nbformat": 4,
 "nbformat_minor": 5
}
