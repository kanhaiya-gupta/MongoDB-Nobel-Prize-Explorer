{
 "cells": [
  {
   "cell_type": "markdown",
   "id": "2c2a05ff-4f4d-4d5d-9c0d-c495151e079d",
   "metadata": {},
   "source": [
    "# Load the JSON File and Insert into MongoDB"
   ]
  },
  {
   "cell_type": "code",
   "execution_count": 4,
   "id": "ab40713f-df8a-4b2f-9056-60f43a85c242",
   "metadata": {},
   "outputs": [
    {
     "name": "stdout",
     "output_type": "stream",
     "text": [
      "Connected to MongoDB successfully!\n",
      "Inserted 934 documents into the 'laureates' collection.\n"
     ]
    }
   ],
   "source": [
    "import json\n",
    "from pymongo import MongoClient\n",
    "from pathlib import Path\n",
    "\n",
    "# Path to your JSON file\n",
    "json_file_path = r\"C:\\Users\\kanha\\MongoDB-Nobel-Prize-Explorer\\datasets\\laureates.json\"\n",
    "\n",
    "# Connect to MongoDB (default localhost:27017)\n",
    "try:\n",
    "    client = MongoClient('mongodb://localhost:27017/')\n",
    "    # Test connection\n",
    "    client.admin.command('ping')\n",
    "    print(\"Connected to MongoDB successfully!\")\n",
    "except Exception as e:\n",
    "    print(f\"Failed to connect to MongoDB: {e}\")\n",
    "    exit()\n",
    "\n",
    "# Create/access a database\n",
    "db = client['nobel_prize_db']\n",
    "\n",
    "# Create/access a collection\n",
    "collection = db['laureates']\n",
    "\n",
    "# Read the JSON file\n",
    "try:\n",
    "    with open(json_file_path, 'r', encoding='utf-8') as file:\n",
    "        data = json.load(file)\n",
    "    \n",
    "    # Check if data is a list or a single object\n",
    "    if isinstance(data, list):\n",
    "        # Insert multiple documents\n",
    "        collection.insert_many(data)\n",
    "        print(f\"Inserted {len(data)} documents into the 'laureates' collection.\")\n",
    "    else:\n",
    "        # Insert a single document\n",
    "        collection.insert_one(data)\n",
    "        print(\"Inserted 1 document into the 'laureates' collection.\")\n",
    "except FileNotFoundError:\n",
    "    print(f\"Error: The file {json_file_path} was not found.\")\n",
    "except json.JSONDecodeError:\n",
    "    print(\"Error: The JSON file is invalid.\")\n",
    "except Exception as e:\n",
    "    print(f\"An error occurred: {e}\")\n",
    "\n",
    "# Close the connection\n",
    "client.close()"
   ]
  },
  {
   "cell_type": "code",
   "execution_count": null,
   "id": "a362bfc0-3493-4df0-87ff-b0a1c8730038",
   "metadata": {},
   "outputs": [],
   "source": []
  }
 ],
 "metadata": {
  "kernelspec": {
   "display_name": "Python [conda env:base] *",
   "language": "python",
   "name": "conda-base-py"
  },
  "language_info": {
   "codemirror_mode": {
    "name": "ipython",
    "version": 3
   },
   "file_extension": ".py",
   "mimetype": "text/x-python",
   "name": "python",
   "nbconvert_exporter": "python",
   "pygments_lexer": "ipython3",
   "version": "3.12.3"
  }
 },
 "nbformat": 4,
 "nbformat_minor": 5
}
